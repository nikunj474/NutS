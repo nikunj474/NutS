{
 "cells": [
  {
   "cell_type": "code",
   "execution_count": 76,
   "metadata": {},
   "outputs": [],
   "source": [
    "import easyocr\n",
    "import pandas as pd"
   ]
  },
  {
   "cell_type": "code",
   "execution_count": 151,
   "metadata": {},
   "outputs": [],
   "source": [
    "import easyocr\n",
    "\n",
    "def extract_items_from_receipt(image_path):\n",
    "    # Initialize EasyOCR reader\n",
    "    reader = easyocr.Reader(['en'])\n",
    "    \n",
    "    # Perform OCR on the receipt image\n",
    "    results = reader.readtext(image_path)\n",
    "    \n",
    "    # Dictionary to store food items and quantities\n",
    "    item_quantity = {}\n",
    "\n",
    "    # Loop through the OCR results to find items and quantities\n",
    "    for i in range(1, len(results)):\n",
    "        current_text = results[i][1]  # Current detected text\n",
    "        previous_text = results[i - 1][1]  # Previous detected text\n",
    "\n",
    "        # Check if the current text looks like a food item (non-numeric)\n",
    "        if not current_text.replace(\".\", \"\").isdigit():\n",
    "            # Check if the previous text is a numeric quantity\n",
    "            if previous_text.replace(\".\", \"\", 1).isdigit():\n",
    "                item_quantity[current_text] = int(float(previous_text))  # Add to dictionary\n",
    "\n",
    "    return item_quantity"
   ]
  },
  {
   "cell_type": "code",
   "execution_count": 152,
   "metadata": {},
   "outputs": [
    {
     "name": "stderr",
     "output_type": "stream",
     "text": [
      "/Library/Frameworks/Python.framework/Versions/3.13/lib/python3.13/site-packages/torch/utils/data/dataloader.py:682: UserWarning: 'pin_memory' argument is set as true but not supported on MPS now, then device pinned memory won't be used.\n",
      "  warnings.warn(warn_msg)\n"
     ]
    },
    {
     "name": "stdout",
     "output_type": "stream",
     "text": [
      "{'Chicken Breast': 5, 'Cheese Cake Slice': 2, 'Broccoli Florets': 2, 'Fuji Apple': 3, 'Cheerios': 1}\n"
     ]
    }
   ],
   "source": [
    "receipt = extract_items_from_receipt('/Users/varunsingh/Desktop/Projects/Hackathon MCIT 2025/Python OCR test/NutS/Varun/Test9.jpg')\n",
    "print(receipt)"
   ]
  },
  {
   "cell_type": "code",
   "execution_count": null,
   "metadata": {},
   "outputs": [
    {
     "name": "stdout",
     "output_type": "stream",
     "text": [
      "['Chicken Breast', 'Cheese Cake Slice', 'Broccoli Florets', 'Fuji Apple', 'Cheerios']\n",
      "[5, 2, 2, 3, 1]\n",
      "        product_name      serving_size carbohydrates_100g saturated-fat_100g  \\\n",
      "0     Chicken Breast    283 g (10 ONZ)             30.46               4.81    \n",
      "19  Broccoli Florets  85 g (4 FLORETS)             21.38                -      \n",
      "\n",
      "   monounsaturated-fat_100g polyunsaturated-fat_100g Total fat fat_100g  \\\n",
      "0                      -                        -        4.81    22.47    \n",
      "19                     -                        -         -        -      \n",
      "\n",
      "   final_fat fiber_100g proteins_100g vitamin-a_100g vitamin-c_100g  \\\n",
      "0     22.47       4.99         65.78           0.00           0.01    \n",
      "19      -        10.90          5.36           0.00           0.16    \n",
      "\n",
      "   vitamin-e_100g Total Vitamin A, C, E sugars_100g  \n",
      "0            -                    0.01        8.04   \n",
      "19           -                    0.16       10.67   \n"
     ]
    }
   ],
   "source": [
    "filteredds = pd.read_csv('/Users/varunsingh/Desktop/Projects/Hackathon MCIT 2025/Python OCR test/NutS/Varun/Final Dataset.csv')\n",
    "\n",
    "\n",
    "# Converting the keys so that we can filter the data set\n",
    "lst = list(receipt.keys())\n",
    "lstqty = list(receipt.values())\n",
    "\n",
    "#Filtering the dataset\n",
    "newds = pd.DataFrame(filteredds[filteredds['product_name'].isin(lst)])\n",
    "\n",
    "#Summing up the columns for the items !!!!\n",
    "print(lst)\n",
    "print(lstqty)\n",
    "\n",
    "print(newds)"
   ]
  },
  {
   "cell_type": "code",
   "execution_count": null,
   "metadata": {},
   "outputs": [],
   "source": []
  },
  {
   "cell_type": "code",
   "execution_count": null,
   "metadata": {},
   "outputs": [],
   "source": []
  }
 ],
 "metadata": {
  "kernelspec": {
   "display_name": "Python 3",
   "language": "python",
   "name": "python3"
  },
  "language_info": {
   "codemirror_mode": {
    "name": "ipython",
    "version": 3
   },
   "file_extension": ".py",
   "mimetype": "text/x-python",
   "name": "python",
   "nbconvert_exporter": "python",
   "pygments_lexer": "ipython3",
   "version": "3.13.1"
  }
 },
 "nbformat": 4,
 "nbformat_minor": 2
}
