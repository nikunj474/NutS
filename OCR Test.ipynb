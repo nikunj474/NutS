{
 "cells": [
  {
   "cell_type": "code",
   "execution_count": 2,
   "metadata": {},
   "outputs": [],
   "source": [
    "import easyocr"
   ]
  },
  {
   "cell_type": "code",
   "execution_count": 2,
   "metadata": {},
   "outputs": [
    {
     "name": "stderr",
     "output_type": "stream",
     "text": [
      "/Library/Frameworks/Python.framework/Versions/3.13/lib/python3.13/site-packages/torch/utils/data/dataloader.py:682: UserWarning: 'pin_memory' argument is set as true but not supported on MPS now, then device pinned memory won't be used.\n",
      "  warnings.warn(warn_msg)\n"
     ]
    },
    {
     "name": "stdout",
     "output_type": "stream",
     "text": [
      "   Detected Text\n",
      "0          03o {\n",
      "1           #c ,\n",
      "2             Ne\n",
      "3            3on\n",
      "4    504 #{0 025\n",
      "..           ...\n",
      "63            89\n",
      "64      19 ITEMS\n",
      "65           Wot\n",
      "66             L\n",
      "67             8\n",
      "\n",
      "[68 rows x 1 columns]\n"
     ]
    }
   ],
   "source": [
    "#Importing easyocr and pandas\n",
    "import easyocr\n",
    "import pandas as pd\n",
    "\n",
    "#Implementing an object to initialise and read the contents using EasyOCR\n",
    "reader = easyocr.Reader(['en'])\n",
    "\n",
    "#Read text from a grocery receipt and store it into a tuple\n",
    "results = reader.readtext('/Users/varunsingh/Desktop/Projects/Hackathon MCIT 2025/Python OCR test/P3.jpg')\n",
    "\n",
    "data = []\n",
    "\n",
    "for (bbox, text, confidence) in results:\n",
    "    data.append({\n",
    "        \"Detected Text\": text,  # The actual text\n",
    "    })\n",
    "\n",
    "# Convert the data into a pandas DataFrame\n",
    "df = pd.DataFrame(data)\n",
    "\n",
    "# Print the DataFrame\n",
    "print(df)"
   ]
  },
  {
   "cell_type": "code",
   "execution_count": 27,
   "metadata": {},
   "outputs": [
    {
     "name": "stdout",
     "output_type": "stream",
     "text": [
      "{'Chicken': 1, 'Beef': 2, 'Brocolli': 3, 'Apple': 2, 'Banana': 2}\n"
     ]
    }
   ],
   "source": [
    "# Initialize an empty dictionary to store items and their quantities\n",
    "item_quantity = {}\n",
    "\n",
    "# Iterate through the DataFrame\n",
    "for i in range(1, len(df)):\n",
    "    current_text = df.loc[i, 'Detected Text']\n",
    "    previous_text = df.loc[i - 1, 'Detected Text']\n",
    "    \n",
    "    # Check if the current text is alphabetic (indicating an item)\n",
    "    if current_text.isalpha():\n",
    "        # Check if the previous text is numeric (indicating a quantity)\n",
    "        if previous_text.isdigit():\n",
    "            item_quantity[current_text] = int(previous_text)\n",
    "\n",
    "# Display the resulting dictionary\n",
    "print(item_quantity)"
   ]
  },
  {
   "cell_type": "code",
   "execution_count": 1,
   "metadata": {},
   "outputs": [
    {
     "name": "stdout",
     "output_type": "stream",
     "text": [
      "Requirement already satisfied: flask in /Library/Frameworks/Python.framework/Versions/3.13/lib/python3.13/site-packages (3.1.0)\n",
      "Requirement already satisfied: easyocr in /Library/Frameworks/Python.framework/Versions/3.13/lib/python3.13/site-packages (1.7.2)\n",
      "Requirement already satisfied: pandas in /Library/Frameworks/Python.framework/Versions/3.13/lib/python3.13/site-packages (2.2.3)\n",
      "Requirement already satisfied: Werkzeug>=3.1 in /Library/Frameworks/Python.framework/Versions/3.13/lib/python3.13/site-packages (from flask) (3.1.3)\n",
      "Requirement already satisfied: Jinja2>=3.1.2 in /Library/Frameworks/Python.framework/Versions/3.13/lib/python3.13/site-packages (from flask) (3.1.5)\n",
      "Requirement already satisfied: itsdangerous>=2.2 in /Library/Frameworks/Python.framework/Versions/3.13/lib/python3.13/site-packages (from flask) (2.2.0)\n",
      "Requirement already satisfied: click>=8.1.3 in /Library/Frameworks/Python.framework/Versions/3.13/lib/python3.13/site-packages (from flask) (8.1.8)\n",
      "Requirement already satisfied: blinker>=1.9 in /Library/Frameworks/Python.framework/Versions/3.13/lib/python3.13/site-packages (from flask) (1.9.0)\n",
      "Requirement already satisfied: torch in /Library/Frameworks/Python.framework/Versions/3.13/lib/python3.13/site-packages (from easyocr) (2.7.0.dev20250124)\n",
      "Requirement already satisfied: torchvision>=0.5 in /Library/Frameworks/Python.framework/Versions/3.13/lib/python3.13/site-packages (from easyocr) (0.22.0.dev20250124)\n",
      "Requirement already satisfied: opencv-python-headless in /Library/Frameworks/Python.framework/Versions/3.13/lib/python3.13/site-packages (from easyocr) (4.11.0.86)\n",
      "Requirement already satisfied: scipy in /Library/Frameworks/Python.framework/Versions/3.13/lib/python3.13/site-packages (from easyocr) (1.15.0)\n",
      "Requirement already satisfied: numpy in /Library/Frameworks/Python.framework/Versions/3.13/lib/python3.13/site-packages (from easyocr) (2.2.1)\n",
      "Requirement already satisfied: Pillow in /Library/Frameworks/Python.framework/Versions/3.13/lib/python3.13/site-packages (from easyocr) (11.1.0)\n",
      "Requirement already satisfied: scikit-image in /Library/Frameworks/Python.framework/Versions/3.13/lib/python3.13/site-packages (from easyocr) (0.25.0)\n",
      "Requirement already satisfied: python-bidi in /Library/Frameworks/Python.framework/Versions/3.13/lib/python3.13/site-packages (from easyocr) (0.6.3)\n",
      "Requirement already satisfied: PyYAML in /Library/Frameworks/Python.framework/Versions/3.13/lib/python3.13/site-packages (from easyocr) (6.0.2)\n",
      "Requirement already satisfied: Shapely in /Library/Frameworks/Python.framework/Versions/3.13/lib/python3.13/site-packages (from easyocr) (2.0.6)\n",
      "Requirement already satisfied: pyclipper in /Library/Frameworks/Python.framework/Versions/3.13/lib/python3.13/site-packages (from easyocr) (1.3.0.post6)\n",
      "Requirement already satisfied: ninja in /Library/Frameworks/Python.framework/Versions/3.13/lib/python3.13/site-packages (from easyocr) (1.11.1.3)\n",
      "Requirement already satisfied: python-dateutil>=2.8.2 in /Users/varunsingh/Library/Python/3.13/lib/python/site-packages (from pandas) (2.9.0.post0)\n",
      "Requirement already satisfied: pytz>=2020.1 in /Library/Frameworks/Python.framework/Versions/3.13/lib/python3.13/site-packages (from pandas) (2024.2)\n",
      "Requirement already satisfied: tzdata>=2022.7 in /Library/Frameworks/Python.framework/Versions/3.13/lib/python3.13/site-packages (from pandas) (2024.2)\n",
      "Requirement already satisfied: MarkupSafe>=2.0 in /Library/Frameworks/Python.framework/Versions/3.13/lib/python3.13/site-packages (from Jinja2>=3.1.2->flask) (3.0.2)\n",
      "Requirement already satisfied: six>=1.5 in /Users/varunsingh/Library/Python/3.13/lib/python/site-packages (from python-dateutil>=2.8.2->pandas) (1.17.0)\n",
      "Requirement already satisfied: filelock in /Library/Frameworks/Python.framework/Versions/3.13/lib/python3.13/site-packages (from torch->easyocr) (3.16.1)\n",
      "Requirement already satisfied: typing-extensions>=4.10.0 in /Library/Frameworks/Python.framework/Versions/3.13/lib/python3.13/site-packages (from torch->easyocr) (4.12.2)\n",
      "Requirement already satisfied: networkx in /Library/Frameworks/Python.framework/Versions/3.13/lib/python3.13/site-packages (from torch->easyocr) (3.4.2)\n",
      "Requirement already satisfied: fsspec in /Library/Frameworks/Python.framework/Versions/3.13/lib/python3.13/site-packages (from torch->easyocr) (2024.9.0)\n",
      "Requirement already satisfied: setuptools in /Library/Frameworks/Python.framework/Versions/3.13/lib/python3.13/site-packages (from torch->easyocr) (75.7.0)\n",
      "Requirement already satisfied: sympy==1.13.1 in /Library/Frameworks/Python.framework/Versions/3.13/lib/python3.13/site-packages (from torch->easyocr) (1.13.1)\n",
      "Requirement already satisfied: mpmath<1.4,>=1.1.0 in /Library/Frameworks/Python.framework/Versions/3.13/lib/python3.13/site-packages (from sympy==1.13.1->torch->easyocr) (1.3.0)\n",
      "Requirement already satisfied: imageio!=2.35.0,>=2.33 in /Library/Frameworks/Python.framework/Versions/3.13/lib/python3.13/site-packages (from scikit-image->easyocr) (2.37.0)\n",
      "Requirement already satisfied: tifffile>=2022.8.12 in /Library/Frameworks/Python.framework/Versions/3.13/lib/python3.13/site-packages (from scikit-image->easyocr) (2025.1.10)\n",
      "Requirement already satisfied: packaging>=21 in /Users/varunsingh/Library/Python/3.13/lib/python/site-packages (from scikit-image->easyocr) (24.2)\n",
      "Requirement already satisfied: lazy-loader>=0.4 in /Library/Frameworks/Python.framework/Versions/3.13/lib/python3.13/site-packages (from scikit-image->easyocr) (0.4)\n",
      "Note: you may need to restart the kernel to use updated packages.\n"
     ]
    }
   ],
   "source": [
    "pip install flask easyocr pandas\n"
   ]
  },
  {
   "cell_type": "code",
   "execution_count": null,
   "metadata": {},
   "outputs": [],
   "source": []
  }
 ],
 "metadata": {
  "kernelspec": {
   "display_name": "Python 3",
   "language": "python",
   "name": "python3"
  },
  "language_info": {
   "codemirror_mode": {
    "name": "ipython",
    "version": 3
   },
   "file_extension": ".py",
   "mimetype": "text/x-python",
   "name": "python",
   "nbconvert_exporter": "python",
   "pygments_lexer": "ipython3",
   "version": "3.13.1"
  }
 },
 "nbformat": 4,
 "nbformat_minor": 2
}
